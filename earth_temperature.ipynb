{
 "cells": [
  {
   "cell_type": "code",
   "execution_count": 1,
   "id": "6b1faddf",
   "metadata": {},
   "outputs": [],
   "source": [
    "###################################################################\n",
    "#\n",
    "#  :: Earth Temperature Model ::\n",
    "#\n",
    "# #################################################################"
   ]
  },
  {
   "cell_type": "markdown",
   "id": "1f492c2c",
   "metadata": {},
   "source": [
    "The task is to demonstrate how one can use coding and modelling to predict the earth surface temperature (and the atmosphere temperature)"
   ]
  },
  {
   "cell_type": "code",
   "execution_count": 3,
   "id": "7233c4ba",
   "metadata": {},
   "outputs": [],
   "source": [
    "# import modules \n",
    "import numpy as np\n",
    "import matplotlib.pyplot as plt\n",
    "import math \n",
    "%matplotlib inline"
   ]
  },
  {
   "cell_type": "markdown",
   "id": "c21387f2",
   "metadata": {},
   "source": [
    "For this assignment, you will run an earth temperature model with a single-slab gray atmosphere. The equations for this model are described below <br>\n",
    "\n",
    "Earth Energy = Energy In - Energy Out <br>\n",
    "Earth Energy = $[\\pi R_e^2 * [S_0(1-A)] + 4\\pi R_e^2\\epsilon\\sigma T_a^4 - 4\\pi R_e^2\\sigma T_e^4]*dt$ <br>\n",
    "Earth Energy = $[S_0(1-A) + 4\\epsilon\\sigma T_a^4 - 4\\sigma T_e^4]*dt$ <br>\n",
    "\n",
    "Again, we want the earth temperature, so we divide by heat capacity <br>\n",
    "Earth Temperature = $[S_0(1-A) + 4\\epsilon\\sigma T_a^4 - 4\\sigma T_e^4]*dt/C$ <br>"
   ]
  },
  {
   "cell_type": "markdown",
   "id": "abe530a0",
   "metadata": {},
   "source": [
    "The atmopshere also changes temperature as it receives radiation from earth (we assume the atmosphere is entirely transparent to the short wave radiation from the sun). <br>\n",
    "\n",
    "Atmosphere Energy = Energy In - Energy Out <br>\n",
    "Atmosphere Temperature = (Energy In - Energy Out)*$dt/C_a$ <br>\n",
    "Atmosphere Temperature = $[4\\pi R_e^2\\sigma T_e^4 - 2*(4\\pi R_e^2)\\sigma T_a^4]*dt/C$ <br> \n",
    "Atmosphere Temperature = $[\\sigma T_e^4 - 2\\sigma T_a^4]*dt/C$ <br>\n",
    "\n",
    "NOTE: we can use $R_e$ for the atmosphere emission because the atmosphere is so thin compared to the radius of the earth"
   ]
  },
  {
   "cell_type": "code",
   "execution_count": 14,
   "id": "f8465888",
   "metadata": {},
   "outputs": [
    {
     "data": {
      "image/png": "[encoded data removed]",
      "text/plain": [
       "<Figure size 468x288 with 1 Axes>"
      ]
     },
     "metadata": {
      "needs_background": "light"
     },
     "output_type": "display_data"
    },
    {
     "name": "stdout",
     "output_type": "stream",
     "text": [
      "Earth temperature 286.639 K\n",
      "Atmosphere temperature 241.034 K\n"
     ]
    }
   ],
   "source": [
    "# 'single slab' atmosphere model, aka gray atmosphere\n",
    "# define variables\n",
    "dt = 60 # s\n",
    "time = np.arange(0,3600,dt) # list of times, measured in seconds\n",
    "insolation = 1367 # Wm^-2\n",
    "earth_temperature = 0 # K \n",
    "earth_temperature_values = [] # empty list so we can add earth temperature values\n",
    "heat_capacity = 850\n",
    "albedo = 0.3\n",
    "\n",
    "atmosphere_temperature = 0 # K\n",
    "atmosphere_heat_capacity = 700\n",
    "emissivity = 0.75\n",
    "\n",
    "def black_body(temp):\n",
    "    sigma = 5.67E-8 # stefan boltzmann constant\n",
    "    return sigma*np.power(temp,4)\n",
    "\n",
    "# calculate the earth temperature (and atmosphere temperature) values for entire list of times \n",
    "for interval in time:\n",
    "    earth_temperature += \\\n",
    "    (insolation*(1-albedo) + 4*emissivity*(black_body(atmosphere_temperature)) - \\\n",
    "     4*black_body(earth_temperature))*dt/heat_capacity\n",
    "    atmosphere_temperature += \\\n",
    "    emissivity*(black_body(earth_temperature)-2*black_body(atmosphere_temperature))*dt/atmosphere_heat_capacity\n",
    "    earth_temperature_values.append(earth_temperature)\n",
    "\n",
    "# plot the data\n",
    "plt.figure(figsize=(6.5,4))\n",
    "plt.title('Earth Temperature Model (Single-Slab Atmo.)')\n",
    "plt.plot(time, earth_temperature_values, color='blue')\n",
    "plt.ylim((50,300))\n",
    "plt.xlabel('Time [s]'), plt.ylabel('Earth Temperature [K]')\n",
    "plt.grid(True)\n",
    "plt.show()\n",
    "\n",
    "max_temp = max(earth_temperature_values)\n",
    "max_temp_atmo = atmosphere_temperature\n",
    "print('Earth temperature', f'{max_temp:.3f}','K')\n",
    "print('Atmosphere temperature', f'{max_temp_atmo:.3f}','K')"
   ]
  },
  {
   "cell_type": "code",
   "execution_count": null,
   "id": "93268f74",
   "metadata": {},
   "outputs": [],
   "source": []
  }
 ],
 "metadata": {
  "kernelspec": {
   "display_name": "Python 3 (ipykernel)",
   "language": "python",
   "name": "python3"
  },
  "language_info": {
   "codemirror_mode": {
    "name": "ipython",
    "version": 3
   },
   "file_extension": ".py",
   "mimetype": "text/x-python",
   "name": "python",
   "nbconvert_exporter": "python",
   "pygments_lexer": "ipython3",
   "version": "3.8.8"
  }
 },
 "nbformat": 4,
 "nbformat_minor": 5
}
